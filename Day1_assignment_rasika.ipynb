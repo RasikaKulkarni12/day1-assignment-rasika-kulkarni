{
  "nbformat": 4,
  "nbformat_minor": 0,
  "metadata": {
    "colab": {
      "name": "Day1 assignment rasika.ipynb",
      "provenance": [],
      "collapsed_sections": [],
      "toc_visible": true
    },
    "kernelspec": {
      "name": "python3",
      "display_name": "Python 3"
    }
  },
  "cells": [
    {
      "cell_type": "markdown",
      "metadata": {
        "id": "RxjwT5p5qlUD"
      },
      "source": [
        "ASSIGNMENT DAY1-RASIKA ANIL KULKARNI\n",
        "\n",
        "\n",
        "Q1.Given the following jumbled word, OBANWRI guess the correct English word.\n",
        "\n",
        "A. RANIBOW\n",
        "B. RAINBOW\n",
        "C. BOWRANI\n",
        "D. ROBWANI\n",
        "\n",
        "ANS:-RAINBOW\n",
        "\n",
        "\n",
        "\n",
        "\n",
        "\n",
        "\n",
        "\n",
        "Q2.Write a program which prints “LETS UPGRADE”. (Please note that you have to\n",
        "print in ALL CAPS as given)\n"
      ]
    },
    {
      "cell_type": "code",
      "metadata": {
        "id": "wqBJV-t4q9uw",
        "outputId": "dcf28c2b-276f-4fbd-8b41-862c3d434f4e",
        "colab": {
          "base_uri": "https://localhost:8080/"
        }
      },
      "source": [
        "string = 'lets upgrade'\n",
        "print(string.upper())\n",
        "\n",
        "\n",
        "\n",
        " \n",
        " \n",
        "\n"
      ],
      "execution_count": 16,
      "outputs": [
        {
          "output_type": "stream",
          "text": [
            "LETS UPGRADE\n"
          ],
          "name": "stdout"
        }
      ]
    },
    {
      "cell_type": "markdown",
      "metadata": {
        "id": "ueb8x34awfy0"
      },
      "source": [
        "Q3.Write a program that takes cost price and selling price as input and displays whether the transaction is a\n",
        "Profit or a Loss or Neither.\n",
        "INPUT FORMAT\n",
        "The first line contains the cost price.\n",
        "The second line contains the selling price.\n",
        "OUTPUT FORMAT\n",
        "Print \"Profit\" if the transaction is a profit or \"Loss\" if it is a loss. If it is neither\n",
        "profit nor loss, print \"Neither\". (You must not have quotes in your output)"
      ]
    },
    {
      "cell_type": "code",
      "metadata": {
        "id": "sn5A6u2yw-yS",
        "outputId": "bcbc092c-9c68-43b9-bfb6-c12883c70e10",
        "colab": {
          "base_uri": "https://localhost:8080/"
        }
      },
      "source": [
        "# Python Program to Calculate Profit or Loss\n",
        " \n",
        "x= input()\n",
        "print(\"cp:\",x)\n",
        "y= input()\n",
        "print(\"sp:\",y)\n",
        " \n",
        "if (x > y):\n",
        "    print(\"loss\")\n",
        "elif (y > x):\n",
        "    print(\"profit\")\n",
        "else:\n",
        "    print(\"Neither\")"
      ],
      "execution_count": 70,
      "outputs": [
        {
          "output_type": "stream",
          "text": [
            "20\n",
            "cp: 20\n",
            "10\n",
            "sp: 10\n",
            "loss\n"
          ],
          "name": "stdout"
        }
      ]
    },
    {
      "cell_type": "markdown",
      "metadata": {
        "id": "K8y4kwXv6yOk"
      },
      "source": [
        "Q5.Write a program that takes an amount in Euros as input. You need to find its equivalent in\n",
        "Rupees and display it. Assume 1 Euro equals Rs. 80.\n",
        "Please note that you are expected to stick to the given input and output\n",
        "format as in sample test cases. Please don't add any extra lines such as\n",
        "'Enter a number', etc.\n",
        "Your program should take only one number as input and display the output."
      ]
    },
    {
      "cell_type": "code",
      "metadata": {
        "id": "YwhhbDZV7HOm",
        "outputId": "903d4dd3-c9f3-48b1-c207-77839b087391",
        "colab": {
          "base_uri": "https://localhost:8080/"
        }
      },
      "source": [
        "x=int(input())\n",
        "print(\"euro:\",x)\n",
        "r=x*80\n",
        "print(\"ruppes:\",r)"
      ],
      "execution_count": 74,
      "outputs": [
        {
          "output_type": "stream",
          "text": [
            "20\n",
            "euro: 20\n",
            "ruppes: 1600\n"
          ],
          "name": "stdout"
        }
      ]
    }
  ]
}